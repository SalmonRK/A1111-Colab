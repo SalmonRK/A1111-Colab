{
  "cells": [
	 {
      "cell_type": "markdown",
      "metadata": {
        "id": "view-in-github",
        "colab_type": "text"
      },
      "source": [
	"# SalmonRK_SD_Webui_Colab V9",
        "<a href=\"https://colab.research.google.com/github/SalmonRK/A1111-Colab/blob/main/SalmonRK_SD_Webui_Colab.ipynb\" target=\"_parent\"><img src=\"https://colab.research.google.com/assets/colab-badge.svg\" alt=\"Open In Colab\"/></a>"
      ]
    },
    {
      "cell_type": "markdown",
      "metadata": {
        "id": "bsiZpfkU7S77"
      },
      "source": [
        "# 1. Setup the web ui"
      ]
    },
    {
      "cell_type": "code",
      "execution_count": null,
      "metadata": {
        "id": "sBbcB4vwj_jm"
      },
      "outputs": [],
      "source": [
        "# Connect Google Drive\n",
        "#from google.colab import drive\n",
        "#drive.mount('/content/drive')\n",
		
        "!pip install --upgrade fastapi\n",
		"#A1111 + controlnet + lycoris + tagcomplete + AR helper + wd14 tagger + segment anything\n",
		"#!curl -Lo /content/drive/MyDrive/SD-A1111.zip https://huggingface.co/datasets/salmonrk/SD-A1111/resolve/main/SD-A1111.zip\n",
		"import shutil\n",
		"import os\n",
		"A1111 = '/content/SD-A1111/'\n",
        "if os.path.exists(A1111):\n",
		"  shutil.rmtree('/content/SD-A1111/')\n",
		"else:\n",
        "  print (\"SD-A1111 not found\")\n",
		"%cd /content/\n",
		"!curl -Lo SD-A1111.zip https://huggingface.co/salmonrk/SD-A1111/resolve/main/SD-A1111.zip\n",
		
        "!unzip SD-A1111.zip\n",
		"!rm -rf /content/SD-A1111.zip\n",
		
		"# SD Extension\n",
		"!git clone https://github.com/fkunn1326/openpose-editor /content/SD-A1111/extensions/openpose-editor\n",
        "!git clone https://github.com/hnmr293/posex /content/SD-A1111/extensions/posex\n",
        "!git clone https://github.com/KutsuyaYuki/ABG_extension /content/SD-A1111/extensions/ABG_extension\n",
        "!git clone https://github.com/mcmonkeyprojects/sd-dynamic-thresholding /content/SD-A1111/extensions/sd-dynamic-thresholding\n",
        "!git clone https://github.com/richrobber2/canvas-zoom /content/SD-A1111/extensions/canvas-zoom\n",
        "!git clone https://github.com/adieyal/sd-dynamic-prompts /content/SD-A1111/extensions/sd-dynamic-prompts\n",
        "!git clone https://github.com/mattjaybe/sd-wildcards /content/SD-A1111/extensions/sd-dynamic-prompts/sd-wildcards\n",
		"!git clone https://github.com/SalmonRK/huchenlei-openpose-editor /content/SD-A1111/extensions/huchenlei-openpose-editor\n",
        "!cp -R /content/SD-A1111/extensions/sd-dynamic-prompts/sd-wildcards/wildcards /content/SD-A1111/extensions/sd-dynamic-prompts\n",
        "!git clone https://github.com/Coyote-A/ultimate-upscale-for-automatic1111 /content/SD-A1111/extensions/ultimate-upscale-for-automatic1111\n",
		"!git clone https://github.com/Bing-su/adetailer /content/SD-A1111/extensions/adetailer\n",
		"!git clone https://github.com/SalmonRK/infinite-image-browsing /content/SD-A1111/extensions/infinite-image-browsing\n",
	"!git clone https://github.com/SalmonRK/reactor /content/SD-A1111/extensions/reactor\n",
	"!git clone https://github.com/SalmonRK/segment-anything /content/SD-A1111/extensions/segment-anything\n",
		"!git clone https://github.com/SalmonRK/inpaint-anything /content/SD-A1111/extensions/inpaint-anything\n",
		"#!git clone https://github.com/SalmonRK/nsfw-filter /content/SD-A1111/extensions/nsfw-filter\n",
		
		"# Model Segment Anything\n",
        "!mkdir -p '/content/SD-A1111/models/sam/'\n",
        "!curl -Lo /content/SD-A1111/models/sam/sam_vit_h_4b8939.pth https://dl.fbaipublicfiles.com/segment_anything/sam_vit_h_4b8939.pth\n",
        "\n",
        
		"# Model(s) setup\n",
        "!curl -Lo /content/SD-A1111/models/Stable-diffusion/epiCDream.safetensors https://civitai.com/api/download/models/136739?type=Model&format=SafeTensor&size=pruned&fp=fp16\n",
        "!curl -Lo /content/SD-A1111/models/Stable-diffusion/AOM3.safetensors https://huggingface.co/ckpt/OrangeMixs/resolve/main/AOM3.safetensors\n",
        "!curl -Lo /content/SD-A1111/models/Stable-diffusion/BRAv7.safetensors https://civitai.com/api/download/models/177164\n",
        "\n",
		
       "# ControlNet\n",
        "!curl -Lo /content/SD-A1111/extensions/controlnet/models/control_v11e_sd15_ip2p.pth https://huggingface.co/lllyasviel/ControlNet-v1-1/resolve/main/control_v11e_sd15_ip2p.pth\n",
        "!curl -Lo /content/SD-A1111/extensions/controlnet/models/control_v11e_sd15_shuffle.pth https://huggingface.co/lllyasviel/ControlNet-v1-1/resolve/main/control_v11e_sd15_shuffle.pth\n",
        "!curl -Lo /content/SD-A1111/extensions/controlnet/models/control_v11f1e_sd15_tile.pth https://huggingface.co/lllyasviel/ControlNet-v1-1/resolve/main/control_v11f1e_sd15_tile.pth\n",
        "!curl -Lo /content/SD-A1111/extensions/controlnet/models/control_v11f1p_sd15_depth.pth https://huggingface.co/lllyasviel/ControlNet-v1-1/resolve/main/control_v11f1p_sd15_depth.pth\n",
        "!curl -Lo /content/SD-A1111/extensions/controlnet/models/control_v11p_sd15_canny.pth https://huggingface.co/lllyasviel/ControlNet-v1-1/resolve/main/control_v11p_sd15_canny.pth\n",
		"!curl -Lo /content/SD-A1111/extensions/controlnet/models/control_v11p_sd15_inpaint.pth https://huggingface.co/lllyasviel/ControlNet-v1-1/resolve/main/control_v11p_sd15_inpaint.pth\n",
        "!curl -Lo /content/SD-A1111/extensions/controlnet/models/control_v11p_sd15_lineart.pth https://huggingface.co/lllyasviel/ControlNet-v1-1/resolve/main/control_v11p_sd15_lineart.pth\n",
        "!curl -Lo /content/SD-A1111/extensions/controlnet/models/control_v11p_sd15_normalbae.pth https://huggingface.co/lllyasviel/ControlNet-v1-1/resolve/main/control_v11p_sd15_normalbae.pth\n",
        "!curl -Lo /content/SD-A1111/extensions/controlnet/models/control_v11p_sd15_openpose.pth https://huggingface.co/lllyasviel/ControlNet-v1-1/resolve/main/control_v11p_sd15_openpose.pth\n",
        "!curl -Lo /content/SD-A1111/extensions/controlnet/models/control_v11p_sd15_scribble.pth https://huggingface.co/lllyasviel/ControlNet-v1-1/resolve/main/control_v11p_sd15_scribble.pth\n",
        "!curl -Lo /content/SD-A1111/extensions/controlnet/models/control_v11p_sd15_seg.pth https://huggingface.co/lllyasviel/ControlNet-v1-1/resolve/main/control_v11p_sd15_seg.pth\n",
        "!curl -Lo /content/SD-A1111/extensions/controlnet/models/control_v11p_sd15_softedge.pth https://huggingface.co/lllyasviel/ControlNet-v1-1/resolve/main/control_v11p_sd15_softedge.pth\n",
        "!curl -Lo /content/SD-A1111/extensions/controlnet/models/control_v11p_sd15s2_lineart_anime.pth https://huggingface.co/lllyasviel/ControlNet-v1-1/resolve/main/control_v11p_sd15s2_lineart_anime.pth\n",
        "!curl -Lo /content/SD-A1111/extensions/controlnet/models/control_v11p_sd15_mlsd.pth https://huggingface.co/lllyasviel/ControlNet-v1-1/resolve/main/control_v11p_sd15_mlsd.pth\n",
		"!curl -Lo /content/SD-A1111/extensions/controlnet/models/controlnetT2IAdapter_t2iAdapterColor.safetensors https://civitai.com/api/download/models/20330\n",
		"!curl -Lo /content/SD-A1111/extensions/controlnet/models/controlnetT2IAdapter_t2iAdapterColor.yaml https://civitai.com/api/download/models/20330?type=Config\n",
		"!curl -Lo /content/SD-A1111/extensions/controlnet/models/controlnetT2IAdapter_t2iAdapterStyle.safetensors https://civitai.com/api/download/models/20331\n",
		"!curl -Lo /content/SD-A1111/extensions/controlnet/models/controlnetT2IAdapter_t2iAdapterStyle.yaml https://civitai.com/api/download/models/20331?type=Config\n",
		"!curl -Lo /content/SD-A1111/extensions/controlnet/models/control_v1p_sd15_qrcode_monster.safetensors https://huggingface.co/monster-labs/control_v1p_sd15_qrcode_monster/blob/main/control_v1p_sd15_qrcode_monster.safetensors\n",
		"!curl -Lo /content/SD-A1111/extensions/controlnet/models/control_v1p_sd15_qrcode_monster.yaml https://huggingface.co/monster-labs/control_v1p_sd15_qrcode_monster/blob/main/control_v1p_sd15_qrcode_monster.yaml\n",
	"!curl -Lo /content/SD-A1111/extensions/controlnet/models/ip-adapter_sd15.pth https://huggingface.co/lllyasviel/sd_control_collection/resolve/main/ip-adapter_sd15.pth\n",
		"!curl -Lo /content/SD-A1111/extensions/controlnet/models/ip-adapter_sd15_plus.pth https://huggingface.co/lllyasviel/sd_control_collection/resolve/main/ip-adapter_sd15_plus.pth\n",
	"!curl -Lo /content/SD-A1111/extensions/controlnet/models/ip-adapter-plus-face_sd15.pth https://huggingface.co/h94/IP-Adapter/resolve/main/models/ip-adapter-plus-face_sd15.bin\n",

		"#Repo 4 SEP 2023\n",
        "%cd /content/SD-A1111\n",
        "!git stash\n",
        "!git pull\n",
        "!git checkout v1.6.0\n",
		"!pip install pytorch_lightning==1.9.4\n",
		"!pip install pydantic==1.10.5\n",
		"%cd /content/SD-A1111/extensions/controlnet\n",
		"!git stash\n",
		"!git pull\n",
		
		"#!pip install torch==1.13.1+cu117 torchvision==0.14.1+cu117 torchtext==0.14.1 torchaudio==0.13.1 torchdata==0.5.1 --extra-index-url https://download.pytorch.org/whl/cu117\n",
        "#!pip install -q torch==2.0.0+cu118 torchvision==0.15.1+cu118 torchaudio==2.0.1+cu118 torchtext==0.15.1 torchdata==0.6.0 --extra-index-url https://download.pytorch.org/whl/cu118 -U\n",
        "#!pip install -q xformers==0.0.18 triton==2.0.0 -U\n",
		"#!apt install libcairo2-dev pkg-config python3-dev\n",
        "#!pip install svglib\n",
		"#!pip install torchmetrics==0.11.0\n",
		"#!curl -Lo /content/SD-A1111/config.json https://huggingface.co/datasets/salmonrk/master/blob/main/config.json\n",
        "#!sed -i -e 's/\\\"sd_model_checkpoint\\\"\\,/\\\"sd_model_checkpoint\\,sd_vae\\,CLIP_stop_at_last_layers\\\"\\,/g' /content/SD-A1111/modules/shared.py\n",
        
		
		
	"#Import Upscaler + embedding\n",
	"import shutil\n",
	"import os\n",
        "!git clone https://huggingface.co/datasets/salmonrk/ESRGAN /content/SD-A1111/models/ESRGAN \n",
	"#shutil.rmtree('/content/SD-A1111/models/ESRGAN/.git')\n",
	"#os.remove('/content/SD-A1111/models/ESRGAN/.gitattributes')\n",	
	
	"shutil.rmtree('/content/SD-A1111/embeddings/')\n",
        "!git clone https://huggingface.co/datasets/salmonrk/embeddings /content/SD-A1111/embeddings\n",
	"#shutil.rmtree('/content/SD-A1111/embeddings/.git')\n",
	"#os.remove('/content/SD-A1111/embeddings/.gitattributes')\n",

	"shutil.rmtree('/content/SD-A1111/models/VAE/')\n",
        "!git clone https://huggingface.co/datasets/salmonrk/VAE /content/SD-A1111/models/VAE\n",
	"#shutil.rmtree('/content/SD-A1111/models/VAE/.git')\n",
	"#os.remove('/content/SD-A1111/models/VAE/.gitattributes')\n",
        
	"# Web UI tunnel\n",
        "#!COMMANDLINE_ARGS=\"--share --disable-safe-unpickle --no-half-vae --xformers --enable-insecure-extension- --gradio-queue --theme dark --remotemoe\" REQS_FILE=\"requirements.txt\" python launch.py\n",
        "# If remotemoe failed to start, change '--remotemoe' to '--cloudflared' on the COMMANDLINE_ARGS line above to use cloudflare tunnel"
      ]
    },
    {
      "cell_type": "markdown",
      "metadata": {
        "id": "JUtPlg328avv"
      },
      "source": [
        "# 2. (เมื่อรันข้อ 1 เสร็จ จะปิดเองอัตโนมัติ อาจจะมีข้อความเตือนให้ restart runtime เป็นปกติ ข้ามไปทำข้ออื่นได้เลย)"
      ]
    },
    {
      "cell_type": "markdown",
      "metadata": {
        "id": "DQwVPx-t8Nol"
      },
      "source": [
        "# 3. Upload your Models VAE & LoRAs & Embedding# (Google Drive สร้าง Folder ชื่อ My_Lora My_Model My_Embeddings My_ESRGAN สำหรับลงของส่วนตัว  (My_ESRGAN สำหรับ Upscaler เช่น 4x-UltraSharp))"
      ]
    },
    {
      "cell_type": "code",
      "execution_count": null,
      "metadata": {
        "id": "alypPmxi69M4"
      },
      "outputs": [],
      "source": [
        "from google.colab import drive\n",
        "drive.mount('/content/drive')\n",
        "# You need to upload Model, Lora and Embeddings into google drive on specific path.\n",
        "\n",
        "!mkdir -p '/content/drive/MyDrive/My_Lora/'\n",
        "!mkdir -p '/content/drive/MyDrive/My_Model/'\n",
        "!mkdir -p '/content/drive/MyDrive/My_Embeddings/'\n",
        "!mkdir -p '/content/drive/MyDrive/My_ESRGAN/'\n",
        "!cp -r '/content/drive/MyDrive/My_Lora/.' '/content/SD-A1111/models/Lora'\n",
        "!cp -r '/content/drive/MyDrive/My_Model/.' '/content/SD-A1111/models/Stable-diffusion'\n",
        "!cp -r '/content/drive/MyDrive/My_Embeddings/.' '/content/SD-A1111/embeddings'\n",
        "!cp -r '/content/drive/MyDrive/My_ESRGAN/.' '/content/SD-A1111/models/ESRGAN'\n",
        "#!cp -r '/content/drive/MyDrive/deforum/.' '/content/SD-A1111/extensions/deforum'\n",
        "# ...."
      ]
    },
    {
      "cell_type": "markdown",
      "metadata": {
        "id": "R-WXDJ8n8R2X"
      },
      "source": [
        "# 4. Launch the web ui"
      ]
    },
    {
      "cell_type": "code",
      "execution_count": null,
      "metadata": {
        "id": "TFuxn-DE7t82"
      },
      "outputs": [],
      "source": [
        "# Web UI tunnel\n",
        "%cd /content/SD-A1111\n",
	"#!git pull origin master\n",
        "#!git checkout b6af0a3809ea869fb180633f9affcae4b199ffcf\n",
	"#!pip install gradio==3.29.0\n",
	"!COMMANDLINE_ARGS=\"--lowram --share --no-half-vae --xformers --enable-insecure-extension-access --theme dark --gradio-queue \" REQS_FILE=\"requirements.txt\" python launch.py\n",
        "# If remotemoe failed to start, change '--remotemoe' to '--cloudflared' on the COMMANDLINE_ARGS line above to use cloudflare tunnel"
      ]
    },
    {
      "cell_type": "markdown",
      "metadata": {
        "id": "bZ4OCQHjCuAj"
      },
      "source": [
        "# Option 1. Download new models & VAE"
      ]
    },
    {
      "cell_type": "markdown",
      "source": [
        "(ชื่อ ใน model name ห้ามมีช่องว่าง และ ต้องใส่นามสกุล เช่น .safetensors หรือ .ckpt)"
      ],
      "metadata": {
        "id": "RMtaFPUuQM-m"
      }
    },
    {
      "cell_type": "markdown",
      "metadata": {
        "id": "OJx4QIQosMMq"
      },
      "source": [
        "After finished load new model, Restart SD webui"
      ]
    },
    {
      "cell_type": "code",
      "execution_count": null,
      "metadata": {
        "id": "SaAJk33ppFw1",
        "cellView": "form"
      },
      "outputs": [],
      "source": [
        "!apt-get -y install -qq aria2\n",
        "\n",
        "model_url1 = \"https://civitai.com/api/download/models/62528\" #@param {type:\"string\"}\n",
        "model_name1 = \"Hassaku.safetensors\" #@param {type:\"string\"}\n",
        "model_url1 = f\"\\\"{model_url1}\\\"\"\n",
        "!aria2c --console-log-level=error -c -x 16 -s 16 -k 1M {model_url1} -d /content/SD-A1111/models/Stable-diffusion -o {model_name1}\n",
        "model_url2 = \"https://huggingface.co/ckpt/perfect_world/resolve/main/perfectWorld_v2Baked.safetensors\" #@param {type:\"string\"}\n",
        "model_name2 = \"perfectWorld_v2Baked.safetensors\" #@param {type:\"string\"}\n",
        "model_url2 = f\"\\\"{model_url2}\\\"\"\n",
        "!aria2c --console-log-level=error -c -x 16 -s 16 -k 1M {model_url2} -d /content/SD-A1111/models/Stable-diffusion -o {model_name2}"
      ]
    },
    {
      "cell_type": "code",
      "source": [
        "!apt-get -y install -qq aria2\n",
        "\n",
        "LORA_url1 = \"https://civitai.com/api/download/models/62379\" #@param {type:\"string\"}\n",
        "LORA_name1 = \"GlassTech-WorldMorph.safetensors\" #@param {type:\"string\"}\n",
        "LORA_url1 = f\"\\\"{LORA_url1}\\\"\"\n",
        "!aria2c --console-log-level=error -c -x 16 -s 16 -k 1M {LORA_url1} -d /content/SD-A1111/models/LoraS -o {LORA_name1}\n",
        "LORA_url2 = \"https://civitai.com/api/download/models/66397\" #@param {type:\"string\"}\n",
        "LORA_name2 = \"YukariTenkawa.safetensors\" #@param {type:\"string\"}\n",
        "LORA_url2 = f\"\\\"{LORA_url2}\\\"\"\n",
        "!aria2c --console-log-level=error -c -x 16 -s 16 -k 1M {LORA_url2} -d /content/SD-A1111/models/Lora -o {LORA_name2}\n"
      ],
      "metadata": {
        "id": "CUyeqc7aNqfo",
        "cellView": "form"
      },
      "execution_count": null,
      "outputs": []
    },
    {
      "cell_type": "markdown",
      "metadata": {
        "id": "uc8wJ0SdCuAl"
      },
      "source": [
        "# Option 2. Copy Generate file to Google Drive"
      ]
    },
    {
      "cell_type": "code",
      "execution_count": null,
      "metadata": {
        "colab": {
          "base_uri": "https://localhost:8080/"
        },
        "outputId": "6eaf9526-c841-4e57-9c5c-ca21e25692c7",
        "id": "6bpC8meCCuAm"
      },
      "outputs": [
        {
          "output_type": "stream",
          "name": "stdout",
          "text": [
            "Mounted at /content/drive\n"
          ]
        }
      ],
      "source": [
        "from google.colab import drive\n",
        "drive.mount('/content/drive')\n",
        "# Copy all genterate file to outputs folder on Google Drive\n",
        "# Stop SD Webui before run these cell\n",
        "\n",
        "!mkdir -p '/content/drive/MyDrive/outputs/'\n",
        "!cp -r '/content/SD-A1111/outputs/.' '/content/drive/MyDrive/outputs/'\n",
        "# ...."
      ]
    },
    {
      "cell_type": "markdown",
      "metadata": {
        "id": "fhwIXzcgfkoR"
      },
      "source": [
        "# Customized By [SalmonRK] (https://www.facebook.com/salmonrkch)\n",
        "# 📚 GitHub for more: [_@SalmonRK_](https://github.com/SalmonRK)\n"
      ]
    }
  ],
  "metadata": {
    "accelerator": "GPU",
    "colab": {
      "provenance": []
    },
    "gpuClass": "standard",
    "kernelspec": {
      "display_name": "Python 3",
      "name": "python3"
    },
    "language_info": {
      "name": "python"
    }
  },
  "nbformat": 4,
  "nbformat_minor": 0
}
