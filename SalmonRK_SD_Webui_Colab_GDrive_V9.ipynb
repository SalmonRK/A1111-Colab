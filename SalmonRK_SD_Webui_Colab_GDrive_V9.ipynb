{
  "cells": [
	 {
      "cell_type": "markdown",
      "metadata": {
        "id": "view-in-github",
        "colab_type": "text"
      },
      "source": [
        "<a href=\"https://colab.research.google.com/github/SalmonRK/A1111-Colab/blob/main/SalmonRK_SD_Webui_Colab_GDrive_V9.ipynb\" target=\"_parent\"><img src=\"https://colab.research.google.com/assets/colab-badge.svg\" alt=\"Open In Colab\"/></a>"
      ]
    },
    {
      "cell_type": "markdown",
      "metadata": {
        "id": "bsiZpfkU7S77"
      },
      "source": [
        "# 1. Install SD A1111 on Google Drive :: Only 1st time :: "
      ]
    },
    {
      "cell_type": "code",
      "execution_count": null,
      "metadata": {
        "id": "sBbcB4vwj_jm"
      },
      "outputs": [],
      "source": [
		"# Connect Google Drive\n",
        "from google.colab import drive\n",
        "drive.mount('/content/drive')\n",
		
        "!pip install --upgrade fastapi\n",
		"#A1111 + controlnet + lycoris + tagcomplete + AR helper + wd14 tagger + segment anything\n",
		"#!curl -Lo /content/drive/MyDrive/SD-A1111.zip https://huggingface.co/datasets/salmonrk/SD-A1111/resolve/main/SD-A1111.zip\n",
		"import shutil\n",
		"import os\n",
		"A1111 = '/content/drive/MyDrive/SD-A1111/'\n",
        "if os.path.exists(A1111):\n",
		"  shutil.rmtree('/content/drive/MyDrive/SD-A1111/')\n",
		"else:\n",
        "  print (\"SD-A1111 not found\")\n",
		"%cd /content/drive/MyDrive\n",
		"!curl -Lo SD-A1111.zip https://huggingface.co/salmonrk/SD-A1111/resolve/main/SD-A1111.zip\n",
		
        "!unzip SD-A1111.zip\n",
		"!rm -rf /content/drive/MyDrive/SD-A1111.zip\n",
		
		"# SD Extension\n",
		"!git clone https://github.com/fkunn1326/openpose-editor /content/drive/MyDrive/SD-A1111/extensions/openpose-editor\n",
        "!git clone https://github.com/hnmr293/posex /content/drive/MyDrive/SD-A1111/extensions/posex\n",
        "!git clone https://github.com/KutsuyaYuki/ABG_extension /content/drive/MyDrive/SD-A1111/extensions/ABG_extension\n",
        "!git clone https://github.com/mcmonkeyprojects/sd-dynamic-thresholding /content/drive/MyDrive/SD-A1111/extensions/sd-dynamic-thresholding\n",
        "!git clone https://github.com/richrobber2/canvas-zoom /content/drive/MyDrive/SD-A1111/extensions/canvas-zoom\n",
        "!git clone https://github.com/adieyal/sd-dynamic-prompts /content/drive/MyDrive/SD-A1111/extensions/sd-dynamic-prompts\n",
        "!git clone https://github.com/mattjaybe/sd-wildcards /content/drive/MyDrive/SD-A1111/extensions/sd-dynamic-prompts/sd-wildcards\n",
		"!git clone https://github.com/SalmonRK/huchenlei-openpose-editor /content/drive/MyDrive/SD-A1111/extensions/huchenlei-openpose-editor\n",
        "!cp -R /content/drive/MyDrive/SD-A1111/extensions/sd-dynamic-prompts/sd-wildcards/wildcards /content/drive/MyDrive/SD-A1111/extensions/sd-dynamic-prompts\n",
        "!git clone https://github.com/Coyote-A/ultimate-upscale-for-automatic1111 /content/drive/MyDrive/SD-A1111/extensions/ultimate-upscale-for-automatic1111\n",
		"!git clone https://github.com/Bing-su/adetailer /content/drive/MyDrive/SD-A1111/extensions/adetailer\n",
		"!git clone https://github.com/SalmonRK/infinite-image-browsing /content/drive/MyDrive/SD-A1111/extensions/infinite-image-browsing\n",
	"!git clone https://github.com/SalmonRK/reactor /content/drive/MyDrive/SD-A1111/extensions/reactor\n",
	"!git clone https://github.com/SalmonRK/segment-anything /content/drive/MyDrive/SD-A1111/extensions/segment-anything\n",
	"!git clone https://github.com/SalmonRK/inpaint-anything /content/drive/MyDrive/SD-A1111/extensions/inpaint-anything\n",
	"#!git clone https://github.com/SalmonRK/nsfw-filter /content/drive/MyDrive/SD-A1111/extensions/nsfw-filter\n",
		
		"# Model Segment Anything\n",
        "!mkdir -p '/content/drive/MyDrive/SD-A1111/models/sam/'\n",
        "!curl -Lo /content/drive/MyDrive/SD-A1111/models/sam/sam_vit_h_4b8939.pth https://dl.fbaipublicfiles.com/segment_anything/sam_vit_h_4b8939.pth\n",
        "\n",
        
		"# Model(s) setup\n",
		"!mkdir -p '/content/drive/MyDrive/Model_SD15/Model'\n",
		"!mkdir -p '/content/drive/MyDrive/Model_SD15/Lora'\n",
		"!mkdir -p '/content/drive/MyDrive/Model_SD15/CTN/model'\n",
		"!mkdir -p '/content/drive/MyDrive/Model_SD15/CTN/annotator'\n",
		
		"SD15 = '/content/drive/MyDrive/Model_SD15/Model'\n",
        "if not os.listdir(SD15):\n",
        "#!curl -Lo /content/drive/MyDrive/Model_SD15/Model/chilledReGenericV3_v10.safetensors https://huggingface.co/onionex/chilledReGenericV3_v10/resolve/main/chilledReGenericV3_v10.safetensors\n",
        "  !curl -Lo /content/drive/MyDrive/Model_SD15/Model/AOM3.safetensors https://huggingface.co/ckpt/OrangeMixs/resolve/main/AOM3.safetensors\n",
        "#!curl -Lo /content/drive/MyDrive/Model_SD15/Model/Counterfeit-V2.5.safetensors https://huggingface.co/gsdf/Counterfeit-V2.5/resolve/main/Counterfeit-V2.5.safetensors\n",
		"else:\n",
        "  print (\"Found SD Model\")\n",
        "\n",
		
        "# ControlNet\n",
		"import os\n",
        "CTNmodel = '/content/drive/MyDrive/Model_SD15/CTN/model/'\n",
        "if not os.listdir(CTNmodel):\n",
        "  !curl -Lo /content/drive/MyDrive/Model_SD15/CTN/model/control_v11e_sd15_ip2p.pth https://huggingface.co/lllyasviel/ControlNet-v1-1/resolve/main/control_v11e_sd15_ip2p.pth\n",
        "  !curl -Lo /content/drive/MyDrive/Model_SD15/CTN/model/control_v11e_sd15_shuffle.pth https://huggingface.co/lllyasviel/ControlNet-v1-1/resolve/main/control_v11e_sd15_shuffle.pth\n",
        "  !curl -Lo /content/drive/MyDrive/Model_SD15/CTN/model/control_v11f1e_sd15_tile.pth https://huggingface.co/lllyasviel/ControlNet-v1-1/resolve/main/control_v11f1e_sd15_tile.pth\n",
        "  !curl -Lo /content/drive/MyDrive/Model_SD15/CTN/model/control_v11f1p_sd15_depth.pth https://huggingface.co/lllyasviel/ControlNet-v1-1/resolve/main/control_v11f1p_sd15_depth.pth\n",
        "  !curl -Lo /content/drive/MyDrive/Model_SD15/CTN/model/control_v11p_sd15_canny.pth https://huggingface.co/lllyasviel/ControlNet-v1-1/resolve/main/control_v11p_sd15_canny.pth\n",
        "  !curl -Lo /content/drive/MyDrive/Model_SD15/CTN/model/control_v11p_sd15_inpaint.pth https://huggingface.co/lllyasviel/ControlNet-v1-1/resolve/main/control_v11p_sd15_inpaint.pth\n",
        "  !curl -Lo /content/drive/MyDrive/Model_SD15/CTN/model/control_v11p_sd15_lineart.pth https://huggingface.co/lllyasviel/ControlNet-v1-1/resolve/main/control_v11p_sd15_lineart.pth\n",
        "  !curl -Lo /content/drive/MyDrive/Model_SD15/CTN/model/control_v11p_sd15_normalbae.pth https://huggingface.co/lllyasviel/ControlNet-v1-1/resolve/main/control_v11p_sd15_normalbae.pth\n",
        "  !curl -Lo /content/drive/MyDrive/Model_SD15/CTN/model/control_v11p_sd15_openpose.pth https://huggingface.co/lllyasviel/ControlNet-v1-1/resolve/main/control_v11p_sd15_openpose.pth\n",
        "  !curl -Lo /content/drive/MyDrive/Model_SD15/CTN/model/control_v11p_sd15_scribble.pth https://huggingface.co/lllyasviel/ControlNet-v1-1/resolve/main/control_v11p_sd15_scribble.pth\n",
        "  !curl -Lo /content/drive/MyDrive/Model_SD15/CTN/model/control_v11p_sd15_seg.pth https://huggingface.co/lllyasviel/ControlNet-v1-1/resolve/main/control_v11p_sd15_seg.pth\n",
        "  !curl -Lo /content/drive/MyDrive/Model_SD15/CTN/model/control_v11p_sd15_softedge.pth https://huggingface.co/lllyasviel/ControlNet-v1-1/resolve/main/control_v11p_sd15_softedge.pth\n",
        "  !curl -Lo /content/drive/MyDrive/Model_SD15/CTN/model/control_v11p_sd15s2_lineart_anime.pth https://huggingface.co/lllyasviel/ControlNet-v1-1/resolve/main/control_v11p_sd15s2_lineart_anime.pth\n",
        "  !curl -Lo /content/drive/MyDrive/Model_SD15/CTN/model/control_v11p_sd15_mlsd.pth https://huggingface.co/lllyasviel/ControlNet-v1-1/resolve/main/control_v11p_sd15_mlsd.pth\n",
        "  !curl -Lo /content/drive/MyDrive/Model_SD15/CTN/model/controlnetT2IAdapter_t2iAdapterColor.safetensors https://civitai.com/api/download/models/20330\n",
        "  !curl -Lo /content/drive/MyDrive/Model_SD15/CTN/model/controlnetT2IAdapter_t2iAdapterColor.yaml https://civitai.com/api/download/models/20330?type=Config\n",
        "  !curl -Lo /content/drive/MyDrive/Model_SD15/CTN/model/controlnetT2IAdapter_t2iAdapterStyle.safetensors https://civitai.com/api/download/models/20331\n",
        "  !curl -Lo /content/drive/MyDrive/Model_SD15/CTN/model/controlnetT2IAdapter_t2iAdapterStyle.yaml https://civitai.com/api/download/models/20331?type=Config\n",
        "  !curl -Lo /content/drive/MyDrive/Model_SD15/CTN/model/control_v1p_sd15_qrcode_monster.safetensors https://huggingface.co/monster-labs/control_v1p_sd15_qrcode_monster/resolve/main/control_v1p_sd15_qrcode_monster.safetensors\n",
        "  !curl -Lo /content/drive/MyDrive/Model_SD15/CTN/model/control_v1p_sd15_qrcode_monster.yaml https://huggingface.co/monster-labs/control_v1p_sd15_qrcode_monster/resolve/main/control_v1p_sd15_qrcode_monster.yaml\n",
        "else:\n",
        "  print (\"Found Controlnet Model\")\n",
	"!curl -Lo /content/drive/MyDrive/Model_SD15/CTN/model/ip-adapter_sd15.pth https://huggingface.co/lllyasviel/sd_control_collection/resolve/main/ip-adapter_sd15.pth\n",
	"!curl -Lo /content/drive/MyDrive/Model_SD15/CTN/model/ip-adapter_sd15_plus.pth https://huggingface.co/lllyasviel/sd_control_collection/resolve/main/ip-adapter_sd15_plus.pth\n",

		"# Hard reset\n",
		"#!git -C /content/drive/MyDrive/SD-A1111 reset --hard\n",
        "#!git -C /content/drive/MyDrive/SD-A1111/extensions/openpose-editor reset --hard\n",
        "#!git -C /content/drive/MyDrive/SD-A1111/extensions/posex reset --hard\n",
        "#!git -C /content/drive/MyDrive/SD-A1111/extensions/controlnet reset --hard\n",
        "#!git -C /content/drive/MyDrive/SD-A1111/extensions/ABG_extension reset --hard\n",
        "#!git -C /content/drive/MyDrive/SD-A1111/extensions/sd-dynamic-thresholding reset --hard\n",
        "#!git -C /content/drive/MyDrive/SD-A1111/extensions/canvas-zoom reset --hard\n",
        "#!git -C /content/drive/MyDrive/SD-A1111/extensions/sd-dynamic-prompts reset --hard\n",
        "#!git -C /content/drive/MyDrive/SD-A1111/extensions/sd-dynamic-prompts/sd-wildcards reset --hard\n",
        "#!git -C /content/drive/MyDrive/SD-A1111/extensions/ultimate-upscale-for-automatic1111 reset --hard\n",
        "#!git -C /content/drive/MyDrive/SD-A1111/extensions/adetailer reset --hard\n",
        "#!git -C /content/drive/MyDrive/SD-A1111/extensions/infinite-image-browsing reset --hard\n",
		"#!git -C /content/drive/MyDrive/SD-A1111/extensions/nsfw-filter reset --hard\n",
        
		"#Repo 4 SEP 2023\n",
        "%cd /content/drive/MyDrive/SD-A1111\n",
        "!git stash\n",
        "!git pull\n",
        "!git checkout v1.6.0\n",
		"!pip install pytorch_lightning==1.9.4\n",
		"!pip install pydantic==1.10.5\n",
		"%cd /content/drive/MyDrive/SD-A1111/extensions/controlnet\n",
		"!git stash\n",
		"!git pull\n",
		
		"#!mkdir -p '/content/drive/MyDrive/SD-A1111/repositories'\n",		
		"#%cd /content/drive/MyDrive/SD-A1111/repositories/\n",
		"#!git clone https://github.com/crowsonkb/k-diffusion.git -b v0.0.15\n",
		"#!git clone https://github.com/sczhou/CodeFormer.git -n\n",
		
		"#!pip install torch==1.13.1+cu117 torchvision==0.14.1+cu117 torchtext==0.14.1 torchaudio==0.13.1 torchdata==0.5.1 --extra-index-url https://download.pytorch.org/whl/cu117\n",
        "#!pip install -q torch==2.0.0+cu118 torchvision==0.15.1+cu118 torchaudio==2.0.1+cu118 torchtext==0.15.1 torchdata==0.6.0 --extra-index-url https://download.pytorch.org/whl/cu118 -U\n",
        "#!pip install -q xformers==0.0.18 triton==2.0.0 -U\n",
		"#!apt install libcairo2-dev pkg-config python3-dev\n",
        "#!pip install svglib\n",
		"#!pip install torchmetrics==0.11.0\n",
		"#!curl -Lo /content/drive/MyDrive/SD-A1111/config.json https://huggingface.co/datasets/salmonrk/master/blob/main/config.json\n",
        "#!sed -i -e 's/\\\"sd_model_checkpoint\\\"\\,/\\\"sd_model_checkpoint\\,sd_vae\\,CLIP_stop_at_last_layers\\\"\\,/g' /content/drive/MyDrive/SD-A1111/modules/shared.py\n",
        
		
		
	"#Import Upscaler + embedding\n",
	"import shutil\n",
	"import os\n",
        "!git clone https://huggingface.co/datasets/salmonrk/ESRGAN /content/drive/MyDrive/SD-A1111/models/ESRGAN \n",
	"#shutil.rmtree('/content/drive/MyDrive/SD-A1111/models/ESRGAN/.git')\n",
	"#os.remove('/content/drive/MyDrive/SD-A1111/models/ESRGAN/.gitattributes')\n",	
	
	"shutil.rmtree('/content/drive/MyDrive/SD-A1111/embeddings/')\n",
        "!git clone https://huggingface.co/datasets/salmonrk/embeddings /content/drive/MyDrive/SD-A1111/embeddings\n",
	"#shutil.rmtree('/content/drive/MyDrive/SD-A1111/embeddings/.git')\n",
	"#os.remove('/content/drive/MyDrive/SD-A1111/embeddings/.gitattributes')\n",

	"shutil.rmtree('/content/drive/MyDrive/SD-A1111/models/VAE/')\n",
        "!git clone https://huggingface.co/datasets/salmonrk/VAE /content/drive/MyDrive/SD-A1111/models/VAE\n",
	"#shutil.rmtree('/content/drive/MyDrive/SD-A1111/models/VAE/.git')\n",
	"#os.remove('/content/drive/MyDrive/SD-A1111/models/VAE/.gitattributes')\n",
        
	"# Web UI tunnel\n",
        "#!COMMANDLINE_ARGS=\"--share --disable-safe-unpickle --no-half-vae --xformers --enable-insecure-extension- --gradio-queue --theme dark --remotemoe\" REQS_FILE=\"requirements.txt\" python launch.py\n",
        "# If remotemoe failed to start, change '--remotemoe' to '--cloudflared' on the COMMANDLINE_ARGS line above to use cloudflare tunnel"
      ]
    },
    {
      "cell_type": "markdown",
      "source": [
        "1.1. Update some module (Need to run these before 2.Launch the webui)"
      ],
      "metadata": {
        "id": "6cpoYx6gPWHU"
      }
    },
    {
      "cell_type": "code",
      "source": [
        "# Connect Google Drive\n",
        "from google.colab import drive\n",
        "drive.mount('/content/drive')\n",
        "# Web UI tunnel\n",
        "%cd /content/drive/MyDrive/SD-A1111\n",
        "!pip install pytorch_lightning==1.9.4\n",
        "!pip install pydantic==1.10.5\n",
        "!pip install torch==2.0.1+cu118 torchvision==0.15.2+cu118 torchaudio==2.0.2 torchtext==0.15.2+cpu torchdata==0.6.1 --index-url https://download.pytorch.org/whl/cu118"
      ],
      "metadata": {
        "id": "vd4KaSS5PUiE"
      },
      "execution_count": null,
      "outputs": []
    },
    {
      "cell_type": "markdown",
      "metadata": {
        "id": "R-WXDJ8n8R2X"
      },
      "source": [
        "# 2. Launch the web ui"
      ]
    },
    {
      "cell_type": "code",
      "execution_count": null,
      "metadata": {
        "id": "TFuxn-DE7t82"
      },
      "outputs": [],
      "source": [
		"# Connect Google Drive\n",
        "from google.colab import drive\n",
        "drive.mount('/content/drive')\n",
	
        "# Web UI tunnel\n",
        "%cd /content/drive/MyDrive/SD-A1111\n",
		"!COMMANDLINE_ARGS=\"--lowram --share --no-half-vae --enable-insecure-extension-access --theme dark --gradio-queue --ckpt-dir '/content/drive/MyDrive/Model_SD15/Model/' --lora-dir '/content/drive/MyDrive/Model_SD15/Lora/' --controlnet-dir '/content/drive/MyDrive/Model_SD15/CTN/model' --controlnet-annotator-models-path '/content/drive/MyDrive/Model_SD15/CTN/annotator' \" REQS_FILE=\"requirements.txt\" python launch.py\n"
      ]
    },
    {
      "cell_type": "markdown",
      "metadata": {
        "id": "bZ4OCQHjCuAj"
      },
      "source": [
        "# Option 1. Download new models ,Lora & LyCoris"
      ]
    },
    {
      "cell_type": "markdown",
      "source": [
        "(ชื่อ ใน model name ห้ามมีช่องว่าง และ ต้องใส่นามสกุล เช่น .safetensors หรือ .ckpt)"
      ],
      "metadata": {
        "id": "RMtaFPUuQM-m"
      }
    },
    {
      "cell_type": "markdown",
      "metadata": {
        "id": "OJx4QIQosMMq"
      },
      "source": [
        "After finished load new model, Restart SD webui"
      ]
    },
    {
      "cell_type": "code",
      "execution_count": null,
      "metadata": {
        "id": "SaAJk33ppFw1",
        "cellView": "form"
      },
      "outputs": [],
      "source": [
		"# Connect Google Drive\n",
        "from google.colab import drive\n",
        "drive.mount('/content/drive')\n",
        "!apt-get -y install -qq aria2\n",
        "\n",
        "model_url1 = \"https://civitai.com/api/download/models/62528\" #@param {type:\"string\"}\n",
        "model_name1 = \"Hassaku.safetensors\" #@param {type:\"string\"}\n",
        "model_url1 = f\"\\\"{model_url1}\\\"\"\n",
        "!aria2c --console-log-level=error -c -x 16 -s 16 -k 1M {model_url1} -d /content/drive/MyDrive/Model_SD15/Model -o {model_name1}\n",
        "model_url2 = \"https://huggingface.co/ckpt/perfect_world/resolve/main/perfectWorld_v2Baked.safetensors\" #@param {type:\"string\"}\n",
        "model_name2 = \"perfectWorld_v2Baked.safetensors\" #@param {type:\"string\"}\n",
        "model_url2 = f\"\\\"{model_url2}\\\"\"\n",
        "!aria2c --console-log-level=error -c -x 16 -s 16 -k 1M {model_url2} -d /content/drive/MyDrive/Model_SD15/Model -o {model_name2}"
      ]
    },
    {
      "cell_type": "code",
      "source": [
        "!apt-get -y install -qq aria2\n",
        "\n",
        "LORA_url1 = \"https://civitai.com/api/download/models/62379\" #@param {type:\"string\"}\n",
        "LORA_name1 = \"GlassTech-WorldMorph.safetensors\" #@param {type:\"string\"}\n",
        "LORA_url1 = f\"\\\"{LORA_url1}\\\"\"\n",
        "!aria2c --console-log-level=error -c -x 16 -s 16 -k 1M {LORA_url1} -d /content/drive/MyDrive/Model_SD15/Lora -o {LORA_name1}\n",
        "LORA_url2 = \"https://civitai.com/api/download/models/66397\" #@param {type:\"string\"}\n",
        "LORA_name2 = \"YukariTenkawa.safetensors\" #@param {type:\"string\"}\n",
        "LORA_url2 = f\"\\\"{LORA_url2}\\\"\"\n",
        "!aria2c --console-log-level=error -c -x 16 -s 16 -k 1M {LORA_url2} -d /content/drive/MyDrive/Model_SD15/Lora -o {LORA_name2}\n"
      ],
      "metadata": {
        "id": "CUyeqc7aNqfo",
        "cellView": "form"
      },
      "execution_count": null,
      "outputs": []
    },
    {
      "cell_type": "markdown",
      "metadata": {
        "id": "fhwIXzcgfkoR"
      },
      "source": [
        "# Customized By [SalmonRK] (https://www.facebook.com/salmonrkch)\n",
        "# 📚 GitHub for more: [_@SalmonRK_](https://github.com/SalmonRK)\n"
      ]
    }
  ],
  "metadata": {
    "accelerator": "GPU",
    "colab": {
      "provenance": []
    },
    "gpuClass": "standard",
    "kernelspec": {
      "display_name": "Python 3",
      "name": "python3"
    },
    "language_info": {
      "name": "python"
    }
  },
  "nbformat": 4,
  "nbformat_minor": 0
}
